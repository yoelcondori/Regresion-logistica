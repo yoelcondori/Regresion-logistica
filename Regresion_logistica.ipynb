{
  "cells": [
    {
      "cell_type": "code",
      "execution_count": null,
      "metadata": {
        "id": "YFzCXPQNfSZK"
      },
      "outputs": [],
      "source": [
        "import numpy as np\n",
        "import pandas as pd\n",
        "import matplotlib.pyplot as plt\n",
        "import warnings\n",
        "warnings.filterwarnings('ignore')\n",
        "%matplotlib inline\n"
      ]
    },
    {
      "cell_type": "code",
      "execution_count": null,
      "metadata": {
        "colab": {
          "background_save": true,
          "base_uri": "https://localhost:8080/",
          "height": 345
        },
        "id": "0e_b5HXqghs3",
        "outputId": "fa52631f-86b7-44f4-8d0c-9f310039812c"
      },
      "outputs": [
        {
          "data": {
            "text/html": [
              "\n",
              "  <div id=\"df-7af603e0-e050-46e5-8d34-5e26c83e3fb2\">\n",
              "    <div class=\"colab-df-container\">\n",
              "      <div>\n",
              "<style scoped>\n",
              "    .dataframe tbody tr th:only-of-type {\n",
              "        vertical-align: middle;\n",
              "    }\n",
              "\n",
              "    .dataframe tbody tr th {\n",
              "        vertical-align: top;\n",
              "    }\n",
              "\n",
              "    .dataframe thead th {\n",
              "        text-align: right;\n",
              "    }\n",
              "</style>\n",
              "<table border=\"1\" class=\"dataframe\">\n",
              "  <thead>\n",
              "    <tr style=\"text-align: right;\">\n",
              "      <th></th>\n",
              "      <th>Score1</th>\n",
              "      <th>Score2</th>\n",
              "      <th>Admitted</th>\n",
              "    </tr>\n",
              "  </thead>\n",
              "  <tbody>\n",
              "    <tr>\n",
              "      <th>0</th>\n",
              "      <td>34.623660</td>\n",
              "      <td>78.024693</td>\n",
              "      <td>0</td>\n",
              "    </tr>\n",
              "    <tr>\n",
              "      <th>1</th>\n",
              "      <td>30.286711</td>\n",
              "      <td>43.894998</td>\n",
              "      <td>0</td>\n",
              "    </tr>\n",
              "    <tr>\n",
              "      <th>2</th>\n",
              "      <td>35.847409</td>\n",
              "      <td>72.902198</td>\n",
              "      <td>0</td>\n",
              "    </tr>\n",
              "    <tr>\n",
              "      <th>3</th>\n",
              "      <td>60.182599</td>\n",
              "      <td>86.308552</td>\n",
              "      <td>1</td>\n",
              "    </tr>\n",
              "    <tr>\n",
              "      <th>4</th>\n",
              "      <td>79.032736</td>\n",
              "      <td>75.344376</td>\n",
              "      <td>1</td>\n",
              "    </tr>\n",
              "  </tbody>\n",
              "</table>\n",
              "</div>\n",
              "      <button class=\"colab-df-convert\" onclick=\"convertToInteractive('df-7af603e0-e050-46e5-8d34-5e26c83e3fb2')\"\n",
              "              title=\"Convert this dataframe to an interactive table.\"\n",
              "              style=\"display:none;\">\n",
              "        \n",
              "  <svg xmlns=\"http://www.w3.org/2000/svg\" height=\"24px\"viewBox=\"0 0 24 24\"\n",
              "       width=\"24px\">\n",
              "    <path d=\"M0 0h24v24H0V0z\" fill=\"none\"/>\n",
              "    <path d=\"M18.56 5.44l.94 2.06.94-2.06 2.06-.94-2.06-.94-.94-2.06-.94 2.06-2.06.94zm-11 1L8.5 8.5l.94-2.06 2.06-.94-2.06-.94L8.5 2.5l-.94 2.06-2.06.94zm10 10l.94 2.06.94-2.06 2.06-.94-2.06-.94-.94-2.06-.94 2.06-2.06.94z\"/><path d=\"M17.41 7.96l-1.37-1.37c-.4-.4-.92-.59-1.43-.59-.52 0-1.04.2-1.43.59L10.3 9.45l-7.72 7.72c-.78.78-.78 2.05 0 2.83L4 21.41c.39.39.9.59 1.41.59.51 0 1.02-.2 1.41-.59l7.78-7.78 2.81-2.81c.8-.78.8-2.07 0-2.86zM5.41 20L4 18.59l7.72-7.72 1.47 1.35L5.41 20z\"/>\n",
              "  </svg>\n",
              "      </button>\n",
              "      \n",
              "  <style>\n",
              "    .colab-df-container {\n",
              "      display:flex;\n",
              "      flex-wrap:wrap;\n",
              "      gap: 12px;\n",
              "    }\n",
              "\n",
              "    .colab-df-convert {\n",
              "      background-color: #E8F0FE;\n",
              "      border: none;\n",
              "      border-radius: 50%;\n",
              "      cursor: pointer;\n",
              "      display: none;\n",
              "      fill: #1967D2;\n",
              "      height: 32px;\n",
              "      padding: 0 0 0 0;\n",
              "      width: 32px;\n",
              "    }\n",
              "\n",
              "    .colab-df-convert:hover {\n",
              "      background-color: #E2EBFA;\n",
              "      box-shadow: 0px 1px 2px rgba(60, 64, 67, 0.3), 0px 1px 3px 1px rgba(60, 64, 67, 0.15);\n",
              "      fill: #174EA6;\n",
              "    }\n",
              "\n",
              "    [theme=dark] .colab-df-convert {\n",
              "      background-color: #3B4455;\n",
              "      fill: #D2E3FC;\n",
              "    }\n",
              "\n",
              "    [theme=dark] .colab-df-convert:hover {\n",
              "      background-color: #434B5C;\n",
              "      box-shadow: 0px 1px 3px 1px rgba(0, 0, 0, 0.15);\n",
              "      filter: drop-shadow(0px 1px 2px rgba(0, 0, 0, 0.3));\n",
              "      fill: #FFFFFF;\n",
              "    }\n",
              "  </style>\n",
              "\n",
              "      <script>\n",
              "        const buttonEl =\n",
              "          document.querySelector('#df-7af603e0-e050-46e5-8d34-5e26c83e3fb2 button.colab-df-convert');\n",
              "        buttonEl.style.display =\n",
              "          google.colab.kernel.accessAllowed ? 'block' : 'none';\n",
              "\n",
              "        async function convertToInteractive(key) {\n",
              "          const element = document.querySelector('#df-7af603e0-e050-46e5-8d34-5e26c83e3fb2');\n",
              "          const dataTable =\n",
              "            await google.colab.kernel.invokeFunction('convertToInteractive',\n",
              "                                                     [key], {});\n",
              "          if (!dataTable) return;\n",
              "\n",
              "          const docLinkHtml = 'Like what you see? Visit the ' +\n",
              "            '<a target=\"_blank\" href=https://colab.research.google.com/notebooks/data_table.ipynb>data table notebook</a>'\n",
              "            + ' to learn more about interactive tables.';\n",
              "          element.innerHTML = '';\n",
              "          dataTable['output_type'] = 'display_data';\n",
              "          await google.colab.output.renderOutput(dataTable, element);\n",
              "          const docLink = document.createElement('div');\n",
              "          docLink.innerHTML = docLinkHtml;\n",
              "          element.appendChild(docLink);\n",
              "        }\n",
              "      </script>\n",
              "    </div>\n",
              "  </div>\n",
              "  "
            ],
            "text/plain": [
              "      Score1     Score2  Admitted\n",
              "0  34.623660  78.024693         0\n",
              "1  30.286711  43.894998         0\n",
              "2  35.847409  72.902198         0\n",
              "3  60.182599  86.308552         1\n",
              "4  79.032736  75.344376         1"
            ]
          },
          "execution_count": null,
          "metadata": {},
          "output_type": "execute_result"
        }
      ],
      "source": [
        "data1 = pd.read_csv('Datosnotas.txt', header=None, names=['Score1', 'Score2', 'Admitted'])\n",
        "data1.head()"
      ]
    },
    {
      "cell_type": "markdown",
      "metadata": {
        "id": "Sm2Ykz0XhcoJ"
      },
      "source": [
        "# **Visualización de los datos**\n",
        "\n",
        "Traza los datos creando una figura, donde los ejes son las dos puntuaciones de los exámenes, y los ejemplos positivos y negativos se muestran con marcadores diferentes."
      ]
    },
    {
      "cell_type": "code",
      "execution_count": null,
      "metadata": {
        "colab": {
          "base_uri": "https://localhost:8080/",
          "height": 421
        },
        "id": "e2rt5BTcg9fL",
        "outputId": "5f044ccb-b0a8-4315-e58e-fdbd7060aa19"
      },
      "outputs": [
        {
          "data": {
            "text/plain": [
              "<matplotlib.legend.Legend at 0x7f1b25281350>"
            ]
          },
          "execution_count": 3,
          "metadata": {},
          "output_type": "execute_result"
        },
        {
          "data": {
            "image/png": "[encoded data removed]",
            "text/plain": [
              "<Figure size 576x432 with 1 Axes>"
            ]
          },
          "metadata": {},
          "output_type": "display_data"
        }
      ],
      "source": [
        "plt.figure(figsize=(8, 6))\n",
        "plt.xlabel('Exam 1 score')\n",
        "plt.ylabel('Exam 2 score')\n",
        "plt.title('Scatter plot of training data')\n",
        "plt.plot(data1['Score1'][data1['Admitted']==1],\n",
        "         data1['Score2'][data1['Admitted']==1], 'k+',\n",
        "         label='Admitted')\n",
        "plt.plot(data1['Score1'][data1['Admitted']==0],\n",
        "         data1['Score2'][data1['Admitted']==0], 'yo',\n",
        "         label='Not Admitted')\n",
        "plt.legend()"
      ]
    },
    {
      "cell_type": "markdown",
      "metadata": {
        "id": "WKpbQHjEh_iQ"
      },
      "source": [
        "# **Aplicación**\n",
        "**Función sigmoidea**\n",
        "\n",
        "La hipótesis de regresión logística se define como\n",
        "hθ(x)=g(θTx)\n",
        "\n",
        "g(z)=11+e−z\n",
        "\n",
        "El primer paso es implementar la función sigmoidea. Para valores positivos grandes de x, la sigmoide debería estar cerca de 1, mientras que para valores negativos grandes, la sigmoide debería estar cerca de 0. Evaluar sigmoid(0) debería dar exactamente 0,5. El código también debería funcionar con vectores y matrices. Para una matriz, la función debe realizar la función sigmoide en cada elemento."
      ]
    },
    {
      "cell_type": "code",
      "execution_count": null,
      "metadata": {
        "colab": {
          "base_uri": "https://localhost:8080/",
          "height": 298
        },
        "id": "pagZqd1Xh3OJ",
        "outputId": "0862af92-31f9-4166-a767-6366e43b73a2"
      },
      "outputs": [
        {
          "data": {
            "image/png": "[encoded data removed]",
            "text/plain": [
              "<Figure size 432x288 with 1 Axes>"
            ]
          },
          "metadata": {},
          "output_type": "display_data"
        },
        {
          "name": "stdout",
          "output_type": "stream",
          "text": [
            "Evaluate sigmoid(0) = 0.5\n"
          ]
        }
      ],
      "source": [
        "# Crear la función sigmoidea.\n",
        "def sigmoid(z):\n",
        "    \"\"\"\n",
        "    The sigmoid function.\n",
        "    Args:\n",
        "        z: float, vector, matrix\n",
        "    Returns:\n",
        "        sigmoid: float\n",
        "    \"\"\"\n",
        "    sigmoid = 1 / (1 + np.exp(-z))\n",
        "    return sigmoid\n",
        "\n",
        "# Visualizar la función sigmoidea\n",
        "x = np.arange(-10, 10, 0.1)\n",
        "plt.axhline(y=0.5, c='black', ls=':')\n",
        "plt.axvline(x=0, c='black', ls=':')\n",
        "plt.annotate('(0, 0.5)', xy=(0, 0.5), xytext=(-3, 0.55))\n",
        "plt.plot(x, sigmoid(x))\n",
        "plt.title('Sigmoid Function')\n",
        "plt.show()\n",
        "\n",
        "print('Evaluate sigmoid(0) =', sigmoid(0))\n"
      ]
    },
    {
      "cell_type": "markdown",
      "metadata": {
        "id": "Y46BkX7nirxN"
      },
      "source": [
        "# Función de coste y gradiente\n",
        "Implementar la función de coste y el gradiente para la regresión logística. La función de coste en la regresión logística es:"
      ]
    },
    {
      "cell_type": "code",
      "execution_count": null,
      "metadata": {
        "colab": {
          "base_uri": "https://localhost:8080/"
        },
        "id": "ByXKs61zigZX",
        "outputId": "ce689509-9dd7-498d-9260-9d3f4908f04c"
      },
      "outputs": [
        {
          "name": "stdout",
          "output_type": "stream",
          "text": [
            "Checking the dimensions of the matrices x, y, theta...\n",
            "(100, 3) (100, 1) (3, 1)\n"
          ]
        }
      ],
      "source": [
        "# Obtenga el número de características.\n",
        "n = len(data1.columns)-1 # restar 1 a la columna de destino\n",
        "\n",
        "# Crear una función para peparar los datos.\n",
        "def prepareData(data, n):\n",
        "    \"\"\"\n",
        "    Add 1s column, convert to arrays,\n",
        "    initialize theta.\n",
        "    Args:\n",
        "        data: read the data file\n",
        "        n: int\n",
        "    Return:\n",
        "        x: a (m, n+1) array\n",
        "        y: a (m, 1) array\n",
        "        theta: a (n+1, 1) array\n",
        "    \"\"\"\n",
        "    # Añade una columna con 1s en el conjunto de datos.\n",
        "    data.insert(0, 'Ones', 1)\n",
        "\n",
        "    # Defina x e y, separando el conjunto de datos.\n",
        "    x = data.iloc[:, 0:n+1]\n",
        "    y = data.iloc[:, n+1:n+2]\n",
        "\n",
        "    # Convertir a arrays, por lo que esta función es\n",
        "# compatible con scipy.optimize.fmin posteriormente.\n",
        "# Inicializar los parámetros theta a 0s.\n",
        "# Theta es un array (n+1, 1),\n",
        "# donde n es el número de características.\n",
        "    x = np.array(x.values)\n",
        "    y = np.array(y.values)\n",
        "    theta = np.zeros((n+1, 1))\n",
        "    return x, y, theta\n",
        "\n",
        "x, y, theta = prepareData(data1, n)\n",
        "\n",
        "print('Checking the dimensions of the matrices x, y, theta...')\n",
        "print(x.shape, y.shape, theta.shape)"
      ]
    },
    {
      "cell_type": "code",
      "execution_count": 9,
      "metadata": {
        "colab": {
          "base_uri": "https://localhost:8080/"
        },
        "id": "V3zubZnAixbE",
        "outputId": "a65951f5-afc3-49a1-e77a-e4caa1177fa6"
      },
      "outputs": [
        {
          "output_type": "stream",
          "name": "stdout",
          "text": [
            "El coste con θ inicial igual a cero, es:\n",
            "0.6931471805599453\n"
          ]
        }
      ],
      "source": [
        "# Crear una función para calcular el coste.\n",
        "# ¡¡¡NOTA!!! Los parámetros deben estar en el orden correcto!!!.\n",
        "# El computeCost(theta, x, y) es el orden correcto,\n",
        "# asumiendo que x e y en computeCost están destinados\n",
        "# para que coincidan con los args=(x, y) más adelante en la función fmin.\n",
        "def computeCost(theta, x, y):\n",
        "    \"\"\"\n",
        "    Compute the cost function.\n",
        "    Args:\n",
        "        theta: array shape(n+1, 1) \n",
        "        x: array shape(m, n+1) \n",
        "        y: array shape(m, 1)\n",
        "    Returns:\n",
        "        cost: float\n",
        "    \"\"\"\n",
        "    m = len(x)\n",
        "    # Realiza la multiplicación de matrices con numpy.dot\n",
        "    h_theta = sigmoid(np.dot(x, theta))\n",
        "    term1 = np.dot(-y.T, np.log(h_theta))\n",
        "    term2 = np.dot((1 - y).T, np.log(1 - h_theta))\n",
        "    cost = np.sum(term1 - term2) / m\n",
        "    return cost\n",
        "\n",
        "print('El coste con θ inicial igual a cero, es:')\n",
        "print(computeCost(theta, x, y))"
      ]
    },
    {
      "cell_type": "code",
      "execution_count": null,
      "metadata": {
        "id": "rrfixpWQjhub"
      },
      "outputs": [],
      "source": [
        ""
      ]
    }
  ],
  "metadata": {
    "colab": {
      "name": "Regresion logistica.ipynb",
      "provenance": []
    },
    "kernelspec": {
      "display_name": "Python 3",
      "name": "python3"
    },
    "language_info": {
      "name": "python"
    }
  },
  "nbformat": 4,
  "nbformat_minor": 0
}